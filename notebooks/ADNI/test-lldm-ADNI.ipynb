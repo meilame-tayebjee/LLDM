{
 "cells": [
  {
   "cell_type": "code",
   "execution_count": null,
   "metadata": {},
   "outputs": [],
   "source": [
    "import sys\n",
    "sys.path.append('../..')\n",
    "sys.path.append('../../lib/src/')\n",
    "import torch\n",
    "from torch import nn\n",
    "import torch.nn.functional as F\n",
    "import os\n",
    "from matplotlib import pyplot as plt\n",
    "from sklearn.manifold import TSNE\n",
    "from sklearn.decomposition import PCA\n",
    "import numpy as np\n",
    "import logging\n",
    "import seaborn as sns\n",
    "\n",
    "from ignite.metrics import SSIM, PSNR\n",
    "\n",
    "\n",
    "\n",
    "\n",
    "from diffusion.stable_diffusion.latent_diffusion import MyLatentDiffusion, LitLDM\n",
    "from diffusion.stable_diffusion.model.unet import UNetModel\n",
    "from diffusion.stable_diffusion.sampler.ddim import DDIMSampler\n",
    "\n",
    "from lib.src.pythae.models import VAE\n",
    "from lib.src.pythae.models.vae import VAEConfig\n",
    "from lib.src.pythae.models import LLDM_IAF, LVAE_IAF_Config, LVAE_IAF, GPVAE, GPVAEConfig\n",
    "from lib.src.pythae.trainers import BaseTrainerConfig, BaseTrainer\n",
    "from lib.scripts.utils import Encoder_ADNI, Encoder_ADNI_GPVAE, Decoder_ADNI, My_MaskedDataset\n",
    "from lib.src.pythae.trainers.training_callbacks import WandbCallback\n",
    "\n",
    "from geometric_perspective_on_vaes.sampling import hmc_sampling\n",
    "\n",
    "\n",
    "def load_config_unet(config):\n",
    "    return UNetModel(\n",
    "        in_channels=config['in_channels'],\n",
    "        out_channels=config['out_channels'],\n",
    "        channels=config['channels'],\n",
    "        n_res_blocks=config['n_res_blocks'],\n",
    "        attention_levels=config['attention_levels'],\n",
    "        channel_multipliers=config['channel_multipliers'],\n",
    "        n_heads=config['n_heads'],\n",
    "    )\n",
    "\n",
    "\n",
    "from matplotlib.patches import Rectangle\n",
    "\n",
    "def plot_sequence(X, patches=None, edgecolor = 'c'):\n",
    "    if len(X.shape) == 4:\n",
    "        X = X.unsqueeze(0)\n",
    "\n",
    "    X = X.cpu().detach().numpy()\n",
    "    num_seq = X.shape[0]\n",
    "    num_obs = X.shape[1]\n",
    "\n",
    "    logger = logging.getLogger()\n",
    "    old_level = logger.level\n",
    "    logger.setLevel(100)\n",
    "    plt.figure(figsize=(num_obs, num_seq))\n",
    "    \n",
    "    for i in range(num_seq):\n",
    "        for j in range(num_obs):\n",
    "            ax = plt.subplot(num_seq, num_obs, i * num_obs + j + 1)\n",
    "            ax.imshow(X[i, j].transpose(1, 2, 0))\n",
    "            ax.axis('off')\n",
    "            \n",
    "            # Add red contour if patches is not None and j is in patches\n",
    "            if patches is not None and j in patches[i]:\n",
    "                rect = Rectangle((0.1, 0.1), X[i, j].shape[2]+0.2, X[i, j].shape[1]+0.2, \n",
    "                                 linewidth=6, edgecolor=edgecolor, facecolor='none')\n",
    "                ax.add_patch(rect)\n",
    "    \n",
    "    plt.show()\n",
    "    logger.setLevel(old_level)\n",
    "\n",
    "\n",
    "\n",
    "%reload_ext autoreload\n",
    "%autoreload 2\n",
    "\n",
    "!nvidia-smi"
   ]
  },
  {
   "cell_type": "code",
   "execution_count": 2,
   "metadata": {},
   "outputs": [
    {
     "name": "stdout",
     "output_type": "stream",
     "text": [
      "torch.Size([8000, 8, 120])\n"
     ]
    }
   ],
   "source": [
    "# Load the data\n",
    "train_data = torch.load('ADNI_train.pt') #(N, T, D)\n",
    "eval_data = torch.load('ADNI_eval.pt')\n",
    "test_data = torch.load('ADNI_test.pt')\n",
    "print(train_data.shape)\n",
    "\n",
    "train_seq_mask = torch.load('ADNI_train_seq_mask.pt') #(N, T)\n",
    "eval_seq_mask = torch.load('ADNI_eval_seq_mask.pt')\n",
    "test_seq_mask = torch.load('ADNI_test_seq_mask.pt')\n",
    "\n",
    "\n",
    "train_pix_mask = torch.ones_like(train_data, requires_grad=False).type(torch.bool)\n",
    "eval_pix_mask = torch.ones_like(eval_data, requires_grad=False).type(torch.bool)\n",
    "test_pix_mask = torch.ones_like(test_data, requires_grad=False).type(torch.bool)\n",
    "\n",
    "train_dataset = My_MaskedDataset(train_data, train_seq_mask, train_pix_mask)\n",
    "eval_dataset = My_MaskedDataset(eval_data, eval_seq_mask, eval_pix_mask)\n",
    "test_dataset = My_MaskedDataset(test_data, test_seq_mask, test_pix_mask)\n",
    "\n",
    "train_loader = torch.utils.data.DataLoader(train_data, batch_size=200, shuffle=True)\n",
    "val_loader = torch.utils.data.DataLoader(eval_data, batch_size=200, shuffle=True)"
   ]
  },
  {
   "cell_type": "code",
   "execution_count": 3,
   "metadata": {},
   "outputs": [
    {
     "name": "stdout",
     "output_type": "stream",
     "text": [
      "Running Kmedoids\n",
      "Finding temperature\n",
      "Best temperature found:  0.0013091053115203977\n",
      "Building metric\n",
      "Increasing T by  5\n",
      "Adding std normal to centroids and var\n",
      "Latent dim: 9\n",
      "Number of parameters in the diffusion model:  353953\n"
     ]
    }
   ],
   "source": [
    "# encoder = Encoder_Chairs(config)\n",
    "# decoder = Decoder_Chairs(config)\n",
    "# vae = LVAE_IAF(config, encoder, decoder)\n",
    "\n",
    "\n",
    "PATH_VAE_FOLDER = 'pre-trained_vae/VAE_training_2024-09-15_13-56-13/final_model'\n",
    "PATH_DIFFUSION_CKPT = 'ldm/lightning_logs/version_0/checkpoints/epoch=49-step=1250.ckpt'\n",
    "\n",
    "\n",
    "device = 'cuda'\n",
    "vae = VAE.load_from_folder(PATH_VAE_FOLDER).to(device)\n",
    "vae.eval()\n",
    "_, _, _ = vae.retrieveG(train_data[train_seq_mask == 1], verbose = True, T_multiplier=5, device = device, addStdNorm=True)\n",
    "\n",
    "\n",
    "# in_channels = 3\n",
    "# out_channels = 3\n",
    "# channels = 32\n",
    "# n_res_blocks = 2\n",
    "# attention_levels = [2]\n",
    "# channel_multipliers = (1, 2, 4)\n",
    "# n_heads = 16\n",
    "\n",
    "\n",
    "in_channels = 1\n",
    "out_channels = 1\n",
    "channels = 32\n",
    "n_res_blocks = 2\n",
    "attention_levels = [0]\n",
    "channel_multipliers = [1]\n",
    "n_heads = 2\n",
    "\n",
    "unet_config = {\n",
    "    'in_channels': in_channels,\n",
    "    'out_channels': out_channels,\n",
    "    'channels': channels,\n",
    "    'n_res_blocks': n_res_blocks,\n",
    "    'attention_levels': attention_levels,\n",
    "    'channel_multipliers': channel_multipliers,\n",
    "    'n_heads': n_heads,\n",
    "}\n",
    "\n",
    "unet = load_config_unet(unet_config)\n",
    "\n",
    "latent_scaling_factor = 1\n",
    "n_steps = 1000\n",
    "\n",
    "#Pas oublier de modif\n",
    "linear_start =  0.00085\n",
    "linear_end = 0.012\n",
    "\n",
    "input_dim = (1, 120)\n",
    "f = 40 #subsampling factor\n",
    "latent_dim = 1* (120 // f) * (120 // f)\n",
    "print('Latent dim:', latent_dim)\n",
    "\n",
    "\n",
    "latent_diffusion = MyLatentDiffusion(unet, latent_scaling_factor, latent_dim, n_steps, linear_start, linear_end, channels = 1)\n",
    "print('Number of parameters in the diffusion model: ', sum(p.numel() for p in latent_diffusion.parameters() if p.requires_grad))\n",
    "\n",
    "model = LitLDM.load_from_checkpoint(PATH_DIFFUSION_CKPT, ldm = latent_diffusion, vae = vae, latent_dim = latent_dim, lr = 6e-4, channels = 1).to(device)\n",
    "diffusion = model.ldm"
   ]
  },
  {
   "cell_type": "code",
   "execution_count": 4,
   "metadata": {},
   "outputs": [
    {
     "name": "stdout",
     "output_type": "stream",
     "text": [
      "Diffusion time steps  [995 853 711 569 427 285 143   1]\n",
      "Running on  cuda:0\n",
      "Freezing pre-trained VAE and pre-trained LDM...\n",
      "Freezing done.\n",
      "Number of trainable parameters: 2.0e+04\n",
      "Number of total parameters: 4.0e+05\n"
     ]
    },
    {
     "data": {
      "text/plain": [
       "GPVAE(\n",
       "  (decoder): Decoder_ADNI(\n",
       "    (fc): Sequential(\n",
       "      (0): Linear(in_features=9, out_features=15, bias=True)\n",
       "      (1): ReLU()\n",
       "      (2): Linear(in_features=15, out_features=30, bias=True)\n",
       "      (3): ReLU()\n",
       "      (4): Linear(in_features=30, out_features=60, bias=True)\n",
       "      (5): ReLU()\n",
       "      (6): Linear(in_features=60, out_features=120, bias=True)\n",
       "      (7): ReLU()\n",
       "    )\n",
       "  )\n",
       "  (encoder): Encoder_ADNI_GPVAE(\n",
       "    (fc): Sequential(\n",
       "      (0): Linear(in_features=120, out_features=60, bias=True)\n",
       "      (1): ReLU()\n",
       "      (2): Linear(in_features=60, out_features=30, bias=True)\n",
       "      (3): ReLU()\n",
       "      (4): Linear(in_features=30, out_features=15, bias=True)\n",
       "      (5): ReLU()\n",
       "    )\n",
       "    (embedding): Linear(in_features=15, out_features=9, bias=True)\n",
       "    (log_var): Linear(in_features=15, out_features=18, bias=True)\n",
       "  )\n",
       ")"
      ]
     },
     "execution_count": 4,
     "metadata": {},
     "output_type": "execute_result"
    }
   ],
   "source": [
    "model_config = LVAE_IAF_Config(\n",
    "    input_dim=(1, 120),\n",
    "    n_obs_per_ind=train_data.shape[1], #8 for Sprites, 7 as we remove last obs\n",
    "    latent_dim=latent_dim,\n",
    "    beta=0.2,\n",
    "    n_hidden_in_made=2,\n",
    "    n_made_blocks=4,\n",
    "    warmup=0,\n",
    "    context_dim=None,\n",
    "    prior='standard',\n",
    "    posterior='gaussian',\n",
    "    linear_scheduling_steps=10,\n",
    "\n",
    ")\n",
    "\n",
    "\n",
    "device = 'cuda'\n",
    "encoder = Encoder_ADNI(model_config.input_dim, model_config.latent_dim).to(device)\n",
    "decoder = Decoder_ADNI(model_config.input_dim, model_config.latent_dim).to(device)\n",
    "ddim_sampler = DDIMSampler(diffusion, n_steps = train_data.shape[1]-1, ddim_eta = 0.5)\n",
    "temperature = 0.5\n",
    "\n",
    "\n",
    "#############\n",
    "# lldm = LLDM_IAF(model_config=model_config, encoder=encoder, decoder=decoder, \n",
    "#                 pretrained_vae=vae, pretrained_ldm=diffusion, ddim_sampler=ddim_sampler,\n",
    "#                 precomputed_zT_samples=zT_samples, GM = GM, verbose = True)\n",
    "\n",
    "lldm = LLDM_IAF(model_config=model_config, encoder=encoder, decoder=decoder, \n",
    "                 pretrained_vae=vae, pretrained_ldm=diffusion, ddim_sampler=ddim_sampler,\n",
    "                verbose = True, temp = temperature)\n",
    "\n",
    "\n",
    "lvae = LVAE_IAF.load_from_folder('lldm/LVAE_IAF_training_2024-09-15_20-02-00/final_model').to(device)\n",
    "gpvae = GPVAE.load_from_folder('dummy_output_dir/GPVAE_training_2024-09-16_11-49-49/final_model').to(device)\n",
    "\n",
    "lldm.eval()\n",
    "lvae.eval()\n",
    "gpvae.eval()"
   ]
  },
  {
   "cell_type": "code",
   "execution_count": 5,
   "metadata": {},
   "outputs": [
    {
     "name": "stdout",
     "output_type": "stream",
     "text": [
      "==============================================================================================================\n",
      "Layer (type:depth-idx)                                       Output Shape              Param #\n",
      "==============================================================================================================\n",
      "UNetModel                                                    [1, 1, 3, 3]              --\n",
      "├─Sequential: 1-1                                            [1, 128]                  --\n",
      "│    └─Linear: 2-1                                           [1, 128]                  (4,224)\n",
      "│    └─SiLU: 2-2                                             [1, 128]                  --\n",
      "│    └─Linear: 2-3                                           [1, 128]                  (16,512)\n",
      "├─ModuleList: 1-2                                            --                        --\n",
      "│    └─TimestepEmbedSequential: 2-4                          [1, 32, 3, 3]             --\n",
      "│    │    └─Conv2d: 3-1                                      [1, 32, 3, 3]             (320)\n",
      "│    └─TimestepEmbedSequential: 2-5                          [1, 32, 3, 3]             --\n",
      "│    │    └─ResBlock: 3-2                                    [1, 32, 3, 3]             (22,752)\n",
      "│    │    └─SpatialTransformer: 3-3                          [1, 32, 3, 3]             (23,200)\n",
      "│    └─TimestepEmbedSequential: 2-6                          [1, 32, 3, 3]             --\n",
      "│    │    └─ResBlock: 3-4                                    [1, 32, 3, 3]             (22,752)\n",
      "│    │    └─SpatialTransformer: 3-5                          [1, 32, 3, 3]             (23,200)\n",
      "├─TimestepEmbedSequential: 1-3                               [1, 32, 3, 3]             --\n",
      "│    └─ResBlock: 2-7                                         [1, 32, 3, 3]             --\n",
      "│    │    └─Sequential: 3-6                                  [1, 32, 3, 3]             (9,312)\n",
      "│    │    └─Sequential: 3-7                                  [1, 32]                   (4,128)\n",
      "│    │    └─Sequential: 3-8                                  [1, 32, 3, 3]             (9,312)\n",
      "│    │    └─Identity: 3-9                                    [1, 32, 3, 3]             --\n",
      "│    └─SpatialTransformer: 2-8                               [1, 32, 3, 3]             --\n",
      "│    │    └─GroupNorm: 3-10                                  [1, 32, 3, 3]             (64)\n",
      "│    │    └─Conv2d: 3-11                                     [1, 32, 3, 3]             (1,056)\n",
      "│    │    └─ModuleList: 3-12                                 --                        (21,024)\n",
      "│    │    └─Conv2d: 3-13                                     [1, 32, 3, 3]             (1,056)\n",
      "│    └─ResBlock: 2-9                                         [1, 32, 3, 3]             --\n",
      "│    │    └─Sequential: 3-14                                 [1, 32, 3, 3]             (9,312)\n",
      "│    │    └─Sequential: 3-15                                 [1, 32]                   (4,128)\n",
      "│    │    └─Sequential: 3-16                                 [1, 32, 3, 3]             (9,312)\n",
      "│    │    └─Identity: 3-17                                   [1, 32, 3, 3]             --\n",
      "├─ModuleList: 1-4                                            --                        --\n",
      "│    └─TimestepEmbedSequential: 2-10                         [1, 32, 3, 3]             --\n",
      "│    │    └─ResBlock: 3-18                                   [1, 32, 3, 3]             (34,112)\n",
      "│    │    └─SpatialTransformer: 3-19                         [1, 32, 3, 3]             (23,200)\n",
      "│    └─TimestepEmbedSequential: 2-11                         [1, 32, 3, 3]             --\n",
      "│    │    └─ResBlock: 3-20                                   [1, 32, 3, 3]             (34,112)\n",
      "│    │    └─SpatialTransformer: 3-21                         [1, 32, 3, 3]             (23,200)\n",
      "│    └─TimestepEmbedSequential: 2-12                         [1, 32, 3, 3]             --\n",
      "│    │    └─ResBlock: 3-22                                   [1, 32, 3, 3]             (34,112)\n",
      "│    │    └─SpatialTransformer: 3-23                         [1, 32, 3, 3]             (23,200)\n",
      "├─Sequential: 1-5                                            [1, 1, 3, 3]              --\n",
      "│    └─GroupNorm32: 2-13                                     [1, 32, 3, 3]             (64)\n",
      "│    └─SiLU: 2-14                                            [1, 32, 3, 3]             --\n",
      "│    └─Conv2d: 2-15                                          [1, 1, 3, 3]              (289)\n",
      "==============================================================================================================\n",
      "Total params: 353,953\n",
      "Trainable params: 0\n",
      "Non-trainable params: 353,953\n",
      "Total mult-adds (Units.MEGABYTES): 1.77\n",
      "==============================================================================================================\n",
      "Input size (MB): 0.00\n",
      "Forward/backward pass size (MB): 0.40\n",
      "Params size (MB): 1.42\n",
      "Estimated Total Size (MB): 1.82\n",
      "==============================================================================================================\n",
      "=================================================================\n",
      "Layer (type:depth-idx)                   Param #\n",
      "=================================================================\n",
      "VAE                                      --\n",
      "├─Decoder_ADNI: 1-1                      --\n",
      "│    └─Sequential: 2-1                   --\n",
      "│    │    └─Linear: 3-1                  (150)\n",
      "│    │    └─ReLU: 3-2                    --\n",
      "│    │    └─Linear: 3-3                  (480)\n",
      "│    │    └─ReLU: 3-4                    --\n",
      "│    │    └─Linear: 3-5                  (1,860)\n",
      "│    │    └─ReLU: 3-6                    --\n",
      "│    │    └─Linear: 3-7                  (7,320)\n",
      "│    │    └─Sigmoid: 3-8                 --\n",
      "├─Encoder_ADNI: 1-2                      --\n",
      "│    └─Sequential: 2-2                   --\n",
      "│    │    └─Linear: 3-9                  (7,260)\n",
      "│    │    └─ReLU: 3-10                   --\n",
      "│    │    └─Linear: 3-11                 (1,830)\n",
      "│    │    └─ReLU: 3-12                   --\n",
      "│    │    └─Linear: 3-13                 (465)\n",
      "│    │    └─ReLU: 3-14                   --\n",
      "│    └─Linear: 2-3                       (144)\n",
      "│    └─Linear: 2-4                       (144)\n",
      "=================================================================\n",
      "Total params: 19,653\n",
      "Trainable params: 0\n",
      "Non-trainable params: 19,653\n",
      "=================================================================\n",
      "====================================================================================================\n",
      "Layer (type:depth-idx)                                                      Param #\n",
      "====================================================================================================\n",
      "LLDM_IAF                                                                    --\n",
      "├─Decoder_ADNI: 1-1                                                         --\n",
      "│    └─Sequential: 2-1                                                      --\n",
      "│    │    └─Linear: 3-1                                                     150\n",
      "│    │    └─ReLU: 3-2                                                       --\n",
      "│    │    └─Linear: 3-3                                                     480\n",
      "│    │    └─ReLU: 3-4                                                       --\n",
      "│    │    └─Linear: 3-5                                                     1,860\n",
      "│    │    └─ReLU: 3-6                                                       --\n",
      "│    │    └─Linear: 3-7                                                     7,320\n",
      "│    │    └─ReLU: 3-8                                                       --\n",
      "├─Encoder_ADNI: 1-2                                                         --\n",
      "│    └─Sequential: 2-2                                                      --\n",
      "│    │    └─Linear: 3-9                                                     7,260\n",
      "│    │    └─ReLU: 3-10                                                      --\n",
      "│    │    └─Linear: 3-11                                                    1,830\n",
      "│    │    └─ReLU: 3-12                                                      --\n",
      "│    │    └─Linear: 3-13                                                    465\n",
      "│    │    └─ReLU: 3-14                                                      --\n",
      "│    └─Linear: 2-3                                                          144\n",
      "│    └─Linear: 2-4                                                          144\n",
      "├─ModuleList: 1-3                                                           --\n",
      "├─VAE: 1-4                                                                  --\n",
      "│    └─Decoder_ADNI: 2-5                                                    --\n",
      "│    │    └─Sequential: 3-15                                                (9,810)\n",
      "│    └─Encoder_ADNI: 2-6                                                    --\n",
      "│    │    └─Sequential: 3-16                                                (9,555)\n",
      "│    │    └─Linear: 3-17                                                    (144)\n",
      "│    │    └─Linear: 3-18                                                    (144)\n",
      "├─MyLatentDiffusion: 1-5                                                    2,000\n",
      "│    └─DiffusionWrapper: 2-7                                                --\n",
      "│    │    └─UNetModel: 3-19                                                 (353,953)\n",
      "====================================================================================================\n",
      "Total params: 395,259\n",
      "Trainable params: 19,653\n",
      "Non-trainable params: 375,606\n",
      "====================================================================================================\n",
      "===========================================================================\n",
      "Layer (type:depth-idx)                             Param #\n",
      "===========================================================================\n",
      "LVAE_IAF                                           --\n",
      "├─Decoder_ADNI: 1-1                                --\n",
      "│    └─Sequential: 2-1                             --\n",
      "│    │    └─Linear: 3-1                            150\n",
      "│    │    └─ReLU: 3-2                              --\n",
      "│    │    └─Linear: 3-3                            480\n",
      "│    │    └─ReLU: 3-4                              --\n",
      "│    │    └─Linear: 3-5                            1,860\n",
      "│    │    └─ReLU: 3-6                              --\n",
      "│    │    └─Linear: 3-7                            7,320\n",
      "│    │    └─ReLU: 3-8                              --\n",
      "├─Encoder_ADNI: 1-2                                --\n",
      "│    └─Sequential: 2-2                             --\n",
      "│    │    └─Linear: 3-9                            7,260\n",
      "│    │    └─ReLU: 3-10                             --\n",
      "│    │    └─Linear: 3-11                           1,830\n",
      "│    │    └─ReLU: 3-12                             --\n",
      "│    │    └─Linear: 3-13                           465\n",
      "│    │    └─ReLU: 3-14                             --\n",
      "│    └─Linear: 2-3                                 144\n",
      "│    └─Linear: 2-4                                 144\n",
      "├─ModuleList: 1-3                                  --\n",
      "│    └─IAF: 2-5                                    --\n",
      "│    │    └─ModuleList: 3-15                       80,456\n",
      "│    └─IAF: 2-6                                    --\n",
      "│    │    └─ModuleList: 3-16                       80,456\n",
      "│    └─IAF: 2-7                                    --\n",
      "│    │    └─ModuleList: 3-17                       80,456\n",
      "│    └─IAF: 2-8                                    --\n",
      "│    │    └─ModuleList: 3-18                       80,456\n",
      "│    └─IAF: 2-9                                    --\n",
      "│    │    └─ModuleList: 3-19                       80,456\n",
      "│    └─IAF: 2-10                                   --\n",
      "│    │    └─ModuleList: 3-20                       80,456\n",
      "│    └─IAF: 2-11                                   --\n",
      "│    │    └─ModuleList: 3-21                       80,456\n",
      "===========================================================================\n",
      "Total params: 582,845\n",
      "Trainable params: 582,845\n",
      "Non-trainable params: 0\n",
      "===========================================================================\n",
      "=================================================================\n",
      "Layer (type:depth-idx)                   Param #\n",
      "=================================================================\n",
      "GPVAE                                    --\n",
      "├─Decoder_ADNI: 1-1                      --\n",
      "│    └─Sequential: 2-1                   --\n",
      "│    │    └─Linear: 3-1                  150\n",
      "│    │    └─ReLU: 3-2                    --\n",
      "│    │    └─Linear: 3-3                  480\n",
      "│    │    └─ReLU: 3-4                    --\n",
      "│    │    └─Linear: 3-5                  1,860\n",
      "│    │    └─ReLU: 3-6                    --\n",
      "│    │    └─Linear: 3-7                  7,320\n",
      "│    │    └─ReLU: 3-8                    --\n",
      "├─Encoder_ADNI_GPVAE: 1-2                --\n",
      "│    └─Sequential: 2-2                   --\n",
      "│    │    └─Linear: 3-9                  7,260\n",
      "│    │    └─ReLU: 3-10                   --\n",
      "│    │    └─Linear: 3-11                 1,830\n",
      "│    │    └─ReLU: 3-12                   --\n",
      "│    │    └─Linear: 3-13                 465\n",
      "│    │    └─ReLU: 3-14                   --\n",
      "│    └─Linear: 2-3                       144\n",
      "│    └─Linear: 2-4                       288\n",
      "=================================================================\n",
      "Total params: 19,797\n",
      "Trainable params: 19,797\n",
      "Non-trainable params: 0\n",
      "=================================================================\n"
     ]
    }
   ],
   "source": [
    "import torchinfo\n",
    "print(torchinfo.summary(unet, input_size=(1, 1, 3, 3), cond = None, time_steps = torch.tensor([10])))\n",
    "print(torchinfo.summary(vae))\n",
    "print(torchinfo.summary(lldm))\n",
    "print(torchinfo.summary(lvae))\n",
    "print(torchinfo.summary(gpvae))"
   ]
  },
  {
   "cell_type": "code",
   "execution_count": 5,
   "metadata": {},
   "outputs": [
    {
     "data": {
      "text/plain": [
       "<All keys matched successfully>"
      ]
     },
     "execution_count": 5,
     "metadata": {},
     "output_type": "execute_result"
    }
   ],
   "source": [
    "lldm.load_state_dict(torch.load('lldm/LLDM_IAF_training_2024-09-15_15-36-55/final_model/model.pt')['model_state_dict'])"
   ]
  },
  {
   "cell_type": "code",
   "execution_count": 6,
   "metadata": {},
   "outputs": [],
   "source": [
    "def extract_train_embeddings(model, train_data, batch_size = 256):\n",
    "    train_embeddings = [] \n",
    "    #log_vars = []\n",
    "    train_loader = torch.utils.data.DataLoader(train_data, batch_size=256, shuffle=False)\n",
    "    for i, x in enumerate(train_loader):\n",
    "        x = x.to('cuda')\n",
    "        out = model.encoder(x)\n",
    "        z = out.embedding.reshape(-1, model.n_obs, model.latent_dim)\n",
    "        log_var = out.log_covariance\n",
    "        train_embeddings.append(z.cpu().detach())\n",
    "        #log_vars.append(log_var.cpu().detach())\n",
    "    train_embeddings = torch.cat(train_embeddings, dim = 0)\n",
    "\n",
    "    return train_embeddings\n",
    "\n",
    "\n",
    "def plot_z_seqs(z_seq, train_embeddings):\n",
    "\n",
    "    num_obs =  NUM_OBS =  train_embeddings.shape[1] \n",
    "    pca = PCA(n_components=2)\n",
    "    n_samples = z_seq.shape[0]\n",
    "    train_embeddings_pca = pca.fit_transform(train_embeddings.reshape(-1, latent_dim).cpu().detach().numpy()).reshape(-1, num_obs, 2)\n",
    "\n",
    "    displayed_indexes = range(num_obs)  #range(num_obs)\n",
    "\n",
    "    all_sequences = z_seq\n",
    "    all_sequences_pca = pca.transform(all_sequences.reshape(-1, latent_dim).cpu().detach().numpy())\n",
    "    all_sequences_pca = all_sequences_pca.reshape(n_samples, -1, 2)\n",
    "    plt.figure(figsize=(NUM_OBS, n_samples))\n",
    "    plt.scatter(all_sequences_pca[:, :, 0], all_sequences_pca[:, :, 1], s=20, color='purple', label='Samples')\n",
    "    colors = plt.get_cmap('tab10', num_obs)\n",
    "    for i in displayed_indexes:\n",
    "        plt.scatter(train_embeddings_pca[:, i, 0], train_embeddings_pca[:, i, 1], s=0.5, color=colors(i), label=f'Train obs. {i}')\n",
    "\n",
    "    for i in range(n_samples):\n",
    "        plt.plot(all_sequences_pca[i, :, 0], all_sequences_pca[i, :, 1], c = 'purple')\n",
    "\n",
    "\n",
    "    plt.legend()\n",
    "    plt.show()\n"
   ]
  },
  {
   "cell_type": "code",
   "execution_count": 7,
   "metadata": {},
   "outputs": [
    {
     "name": "stdout",
     "output_type": "stream",
     "text": [
      "torch.Size([8000, 8, 9])\n",
      "torch.Size([8000, 8, 9])\n"
     ]
    }
   ],
   "source": [
    "train_embeddings = extract_train_embeddings(lldm, train_data)\n",
    "train_embeddings_lvae = extract_train_embeddings(lvae, train_data)\n",
    "\n",
    "print(train_embeddings.shape)\n",
    "print(train_embeddings_lvae.shape)"
   ]
  },
  {
   "cell_type": "markdown",
   "metadata": {},
   "source": [
    "## Testing generation \n",
    "### (without freezing a given obs)"
   ]
  },
  {
   "cell_type": "code",
   "execution_count": 10,
   "metadata": {},
   "outputs": [
    {
     "ename": "NameError",
     "evalue": "name 'train_embeddings' is not defined",
     "output_type": "error",
     "traceback": [
      "\u001b[0;31m---------------------------------------------------------------------------\u001b[0m",
      "\u001b[0;31mNameError\u001b[0m                                 Traceback (most recent call last)",
      "Cell \u001b[0;32mIn[10], line 3\u001b[0m\n\u001b[1;32m      1\u001b[0m lldm\u001b[38;5;241m.\u001b[39mtemperature \u001b[38;5;241m=\u001b[39m \u001b[38;5;241m0\u001b[39m\n\u001b[1;32m      2\u001b[0m recon_x, z_seq \u001b[38;5;241m=\u001b[39m lldm\u001b[38;5;241m.\u001b[39mgenerate(train_data, num_gen_seq\u001b[38;5;241m=\u001b[39m\u001b[38;5;241m5\u001b[39m, vi_index \u001b[38;5;241m=\u001b[39m\u001b[38;5;241m5\u001b[39m, T_multiplier \u001b[38;5;241m=\u001b[39m \u001b[38;5;241m200\u001b[39m, verbose \u001b[38;5;241m=\u001b[39m \u001b[38;5;28;01mFalse\u001b[39;00m)\n\u001b[0;32m----> 3\u001b[0m plot_z_seqs(z_seq, torch\u001b[38;5;241m.\u001b[39mnan_to_num(\u001b[43mtrain_embeddings\u001b[49m))\n",
      "\u001b[0;31mNameError\u001b[0m: name 'train_embeddings' is not defined"
     ]
    }
   ],
   "source": [
    "lldm.temperature = 0\n",
    "recon_x, z_seq = lldm.generate(train_data, num_gen_seq=5, vi_index =5, T_multiplier = 200, verbose = False)\n",
    "plot_z_seqs(z_seq, torch.nan_to_num(train_embeddings))"
   ]
  },
  {
   "cell_type": "code",
   "execution_count": 11,
   "metadata": {},
   "outputs": [
    {
     "name": "stdout",
     "output_type": "stream",
     "text": [
      "Remainder batch size...: size 104\n"
     ]
    }
   ],
   "source": [
    "lldm.temperature = 1\n",
    "generated_lldm, _ = lldm.generate(train_data, num_gen_seq=test_data.shape[0], vi_index =5, T_multiplier = 200, verbose = False)\n",
    "generated_lvae, _ = lvae.generate(random_normal = True, num_gen_seq=test_data.shape[0])\n",
    "generated_gpvae = gpvae.generate(n_samples=test_data.shape[0], batch_size = 128)"
   ]
  },
  {
   "cell_type": "code",
   "execution_count": 12,
   "metadata": {},
   "outputs": [
    {
     "name": "stdout",
     "output_type": "stream",
     "text": [
      "torch.Size([7100, 120])\n"
     ]
    }
   ],
   "source": [
    "flat_test_data = test_data.reshape(-1, test_data.shape[2])\n",
    "nan_indices = torch.isnan(flat_test_data).any(axis=1)\n",
    "flat_test_data = flat_test_data[~nan_indices]\n",
    "\n",
    "print(flat_test_data.shape)\n",
    "\n",
    "generated_lldm = generated_lldm.reshape(-1, test_data.shape[2])\n",
    "generated_lvae = generated_lvae.reshape(-1, test_data.shape[2])\n",
    "generated_gpvae = generated_gpvae.reshape(-1, test_data.shape[2])\n",
    "\n",
    "\n"
   ]
  },
  {
   "cell_type": "code",
   "execution_count": 23,
   "metadata": {},
   "outputs": [],
   "source": [
    "def plot_correlation_matrix(data = None, corrmat = None):\n",
    "    # Assuming your correlation matrix is torch.Tensor\n",
    "\n",
    "    if corrmat == None:\n",
    "        assert data is not None, \"Please provide data to compute the correlation matrix\"\n",
    "        corrmat = torch.corrcoef(data.T)\n",
    "        corrmat = torch.nan_to_num(corrmat)\n",
    "    else:  \n",
    "        corrmat = torch.nan_to_num(corrmat)\n",
    "\n",
    "    # Convert torch Tensor to numpy array for plotting\n",
    "    corr_matrix_np = corrmat.numpy()\n",
    "\n",
    "    # Set figure size large enough to display a 120x120 matrix clearly\n",
    "    plt.figure(figsize=(15, 12))\n",
    "\n",
    "    # Plot heatmap without annotations to avoid cluttering\n",
    "    sns.heatmap(corr_matrix_np, cmap=\"coolwarm\", vmin=-1, vmax=1, \n",
    "                square=True, cbar_kws={\"shrink\": .75})\n",
    "\n",
    "    # Optionally rotate x-axis labels for readability\n",
    "    plt.xticks(rotation=90, fontsize=6)  # Reduce font size for large matrices\n",
    "    plt.yticks(rotation=0, fontsize=6)   # Keep y-axis labels horizontal\n",
    "\n",
    "    # Optional: Reorder the heatmap by clustering similar features together (if needed)\n",
    "    # sns.clustermap(corr_matrix_np, cmap=\"coolwarm\", vmin=-1, vmax=1)\n",
    "    # Show plot\n",
    "    plt.show()\n",
    "    return corrmat\n"
   ]
  },
  {
   "cell_type": "code",
   "execution_count": null,
   "metadata": {},
   "outputs": [],
   "source": [
    "print('---- TRUE CORRELATION MATRIX ----')\n",
    "true_corrmat = plot_correlation_matrix(flat_test_data)\n",
    "\n",
    "print('---- CORRELATION MATRIX LLDM ----')\n",
    "lldm_corrmat = plot_correlation_matrix(generated_lldm)\n",
    "diff_lldm_corrmat = plot_correlation_matrix(corrmat =  lldm_corrmat - true_corrmat)\n",
    "print('L2 distance w.r.t. true correlation matrix:', torch.norm(true_corrmat - lldm_corrmat, p=2))\n",
    "print('---- CORRELATION MATRIX LVAE ----')\n",
    "lvae_corrmat = plot_correlation_matrix(generated_lvae)\n",
    "print('L2 distance w.r.t. true correlation matrix:', torch.norm(true_corrmat - lvae_corrmat, p=2))\n",
    "print('---- CORRELATION MATRIX GPVAE ----')\n",
    "gpave_corrmat = plot_correlation_matrix(generated_gpvae)\n",
    "print('L2 distance w.r.t. true correlation matrix:', torch.norm(true_corrmat - gpave_corrmat, p=2))\n"
   ]
  },
  {
   "cell_type": "code",
   "execution_count": 13,
   "metadata": {},
   "outputs": [
    {
     "name": "stdout",
     "output_type": "stream",
     "text": [
      "IDX FEATURES [44, 1, 22, 108, 46]\n"
     ]
    },
    {
     "data": {
      "image/png": "[encoded data removed]",
      "text/plain": [
       "<Figure size 1800x1600 with 20 Axes>"
      ]
     },
     "metadata": {},
     "output_type": "display_data"
    }
   ],
   "source": [
    "idx_features = [44, 1, 22, 108, 46]\n",
    "\n",
    "print(\"IDX FEATURES\", idx_features)\n",
    "\n",
    "# Create a 5x4 subplot grid (5 features, each with 4 histograms)\n",
    "fig, axes = plt.subplots(5, 4, figsize=(18, 16))  # Adjust the size for a large figure\n",
    "\n",
    "# Loop through each feature index\n",
    "for i, feature_idx in enumerate(idx_features):\n",
    "    # Calculate the x-axis limits based on the true test data\n",
    "    x_min, x_max = flat_test_data[:, feature_idx].min(), flat_test_data[:, feature_idx].max()\n",
    "    \n",
    "    # Plot histograms for each dataset in the corresponding subplot row\n",
    "    for j, data in enumerate([flat_test_data, generated_lldm, generated_lvae, generated_gpvae]):\n",
    "        # Select current axis\n",
    "        ax = axes[i, j]\n",
    "        \n",
    "        # Plot histogram for the current feature from each dataset\n",
    "        ax.hist(data[:, feature_idx], bins=30, color=['blue', 'green', 'red', 'orange'][j], \n",
    "                alpha=0.7, edgecolor='black', density=True)\n",
    "        \n",
    "        # Set x-axis limits to be the same across all histograms on this row (based on test data)\n",
    "        ax.set_xlim(x_min, x_max)\n",
    "        \n",
    "        # Set title for each subplot (Feature number)\n",
    "        if j == 0:\n",
    "            ax.set_title(f'Feature {feature_idx} (Test Data)', fontsize=12)\n",
    "        else:\n",
    "            ax.set_title(f'Feature {feature_idx}', fontsize=12)\n",
    "        \n",
    "        # Set consistent x and y axis labels\n",
    "        ax.set_xlabel('Value', fontsize=10)\n",
    "        ax.set_ylabel('Frequency', fontsize=10)\n",
    "\n",
    "\n",
    "# Adjust layout for better spacing and avoid overlap\n",
    "plt.tight_layout()\n",
    "\n",
    "# Show the plot\n",
    "plt.show()"
   ]
  },
  {
   "cell_type": "code",
   "execution_count": 7,
   "metadata": {},
   "outputs": [],
   "source": [
    "import numpy as np\n",
    "from scipy.stats import multivariate_normal\n",
    "from scipy.linalg import inv, det\n",
    "\n",
    "def fit_gaussian(data):\n",
    "    \"\"\"\n",
    "    Fit a Gaussian to the dataset by calculating the mean and covariance matrix.\n",
    "    \"\"\"\n",
    "    mean = np.mean(data, axis=0)\n",
    "    cov = np.cov(data, rowvar=False)\n",
    "    return mean, cov\n",
    "\n",
    "def kl_divergence_gaussian(mu0, cov0, mu1, cov1, regularization=1e-1):\n",
    "    \"\"\"\n",
    "    Compute the KL divergence between two multivariate Gaussians:\n",
    "    p ~ N(mu0, cov0) and q ~ N(mu1, cov1).\n",
    "    Regularize the covariance matrix to avoid singular matrix errors.\n",
    "    \"\"\"\n",
    "    d = mu0.shape[0]  # Dimensionality\n",
    "\n",
    "    # Regularization: Add small values to diagonal of covariance matrices to ensure they are invertible\n",
    "    cov1 += np.eye(d) * regularization\n",
    "    cov0 += np.eye(d) * regularization\n",
    "\n",
    "\n",
    "    cov1_inv = inv(cov1)\n",
    "\n",
    "    term1 = np.log(det(cov1) / det(cov0))\n",
    "    term2 = np.trace(cov1_inv @ cov0)\n",
    "    term3 = (mu1 - mu0).T @ cov1_inv @ (mu1 - mu0)\n",
    "\n",
    "    kl_div = 0.5 * (term1 - d + term2 + term3)\n",
    "    return kl_div"
   ]
  },
  {
   "cell_type": "code",
   "execution_count": null,
   "metadata": {},
   "outputs": [],
   "source": [
    "\n",
    "# Assuming your actual data is already loaded\n",
    "# Fit Gaussians\n",
    "mu_test, cov_test = fit_gaussian(flat_test_data.numpy())\n",
    "mu_lldm, cov_lldm = fit_gaussian(generated_lldm.numpy())\n",
    "mu_lvae, cov_lvae = fit_gaussian(generated_lvae.numpy())\n",
    "mu_gpvae, cov_gpvae = fit_gaussian(generated_gpvae.numpy())\n",
    "\n",
    "# Compute KL Divergence using pre-existing KL formula\n",
    "kl_lldm = kl_divergence_gaussian(mu_test, cov_test, mu_lldm, cov_lldm)\n",
    "kl_lvae = kl_divergence_gaussian(mu_test, cov_test, mu_lvae, cov_lvae)\n",
    "kl_gpvae = kl_divergence_gaussian(mu_test, cov_test, mu_gpvae, cov_gpvae)\n",
    "\n",
    "# Print results\n",
    "print(f\"KL divergence (Test vs LLDM): {kl_lldm}\")\n",
    "print(f\"KL divergence (Test vs LVAE): {kl_lvae}\")\n",
    "print(f\"KL divergence (Test vs GPVAE): {kl_gpvae}\")"
   ]
  },
  {
   "cell_type": "markdown",
   "metadata": {},
   "source": [
    "#### Varying start_index"
   ]
  },
  {
   "cell_type": "code",
   "execution_count": 10,
   "metadata": {},
   "outputs": [
    {
     "name": "stdout",
     "output_type": "stream",
     "text": [
      "torch.Size([7100, 120])\n"
     ]
    },
    {
     "name": "stderr",
     "output_type": "stream",
     "text": [
      " 17%|█▋        | 1/6 [00:12<01:04, 12.92s/it]"
     ]
    },
    {
     "name": "stdout",
     "output_type": "stream",
     "text": [
      "-------------------\n",
      "Index:  0\n",
      "KL divergence (Test vs LLDM): 8.351588506728202\n"
     ]
    },
    {
     "name": "stderr",
     "output_type": "stream",
     "text": [
      " 33%|███▎      | 2/6 [00:26<00:53, 13.29s/it]"
     ]
    },
    {
     "name": "stdout",
     "output_type": "stream",
     "text": [
      "-------------------\n",
      "Index:  1\n",
      "KL divergence (Test vs LLDM): 29.323738689070375\n"
     ]
    },
    {
     "name": "stderr",
     "output_type": "stream",
     "text": [
      " 50%|█████     | 3/6 [00:39<00:39, 13.10s/it]"
     ]
    },
    {
     "name": "stdout",
     "output_type": "stream",
     "text": [
      "-------------------\n",
      "Index:  2\n",
      "KL divergence (Test vs LLDM): 65.3911298795401\n"
     ]
    },
    {
     "name": "stderr",
     "output_type": "stream",
     "text": [
      " 67%|██████▋   | 4/6 [00:52<00:26, 13.03s/it]"
     ]
    },
    {
     "name": "stdout",
     "output_type": "stream",
     "text": [
      "-------------------\n",
      "Index:  3\n",
      "KL divergence (Test vs LLDM): 107.88031875937071\n"
     ]
    },
    {
     "name": "stderr",
     "output_type": "stream",
     "text": [
      " 83%|████████▎ | 5/6 [01:05<00:12, 12.93s/it]"
     ]
    },
    {
     "name": "stdout",
     "output_type": "stream",
     "text": [
      "-------------------\n",
      "Index:  4\n",
      "KL divergence (Test vs LLDM): 154.0457662800423\n"
     ]
    },
    {
     "name": "stderr",
     "output_type": "stream",
     "text": [
      "100%|██████████| 6/6 [01:17<00:00, 12.95s/it]"
     ]
    },
    {
     "name": "stdout",
     "output_type": "stream",
     "text": [
      "-------------------\n",
      "Index:  5\n",
      "KL divergence (Test vs LLDM): 202.44549637937098\n"
     ]
    },
    {
     "name": "stderr",
     "output_type": "stream",
     "text": [
      "\n"
     ]
    }
   ],
   "source": [
    "from tqdm import tqdm\n",
    "lldm.temperature = 0\n",
    "flat_test_data = test_data.reshape(-1, test_data.shape[2])\n",
    "nan_indices = torch.isnan(flat_test_data).any(axis=1)\n",
    "flat_test_data = flat_test_data[~nan_indices]\n",
    "mu_test, cov_test = fit_gaussian(flat_test_data.numpy())\n",
    "\n",
    "print(flat_test_data.shape)\n",
    "all_scores_lldm = []\n",
    "for i in tqdm(range(lldm.n_obs-2)): \n",
    "    generated_lldm, _ = lldm.generate(train_data, num_gen_seq=test_data.shape[0], vi_index =i, T_multiplier = 200, verbose = False)\n",
    "    generated_lldm = generated_lldm.reshape(-1, test_data.shape[2])\n",
    "    mu_lldm, cov_lldm = fit_gaussian(generated_lldm.numpy())\n",
    "    kl_lldm = kl_divergence_gaussian(mu_test, cov_test, mu_lldm, cov_lldm)\n",
    "    print('-------------------')\n",
    "    print(\"Index: \", i)\n",
    "    print(f\"KL divergence (Test vs LLDM): {kl_lldm}\")\n",
    "    all_scores_lldm.append(kl_lldm)\n"
   ]
  },
  {
   "cell_type": "markdown",
   "metadata": {},
   "source": [
    "## Future prediction"
   ]
  },
  {
   "cell_type": "code",
   "execution_count": 7,
   "metadata": {},
   "outputs": [
    {
     "name": "stdout",
     "output_type": "stream",
     "text": [
      "torch.Size([400, 8, 120]) torch.Size([300, 8, 120]) torch.Size([300, 8, 120])\n"
     ]
    }
   ],
   "source": [
    "#Only keep the sequences that have full 8 obs without nan\n",
    "\n",
    "test_data_8 = test_data[test_seq_mask.sum(dim = 1) == 8]\n",
    "test_data_7 = test_data[test_seq_mask.sum(dim = 1) == 7]\n",
    "test_data_6 = test_data[test_seq_mask.sum(dim = 1) == 6]\n",
    "print(test_data_8.shape, test_data_7.shape, test_data_6.shape)"
   ]
  },
  {
   "cell_type": "code",
   "execution_count": 18,
   "metadata": {},
   "outputs": [
    {
     "name": "stdout",
     "output_type": "stream",
     "text": [
      "Mean index 1: [16.824572]\n",
      "Std index 1: [0.14697264]\n",
      "Mean index 2: [16.662052 16.773748]\n",
      "Std index 2: [0.08024473 0.10700111]\n",
      "Mean index 3: [16.791557 16.669106 16.850897]\n",
      "Std index 3: [0.11826378 0.10166697 0.16517012]\n",
      "Mean index 4: [16.855703 16.81109  16.71521  16.76604 ]\n",
      "Std index 4: [0.12364994 0.13154086 0.1474968  0.07786429]\n",
      "Mean index 5: [17.216568 16.824177 16.888836 16.733377 16.726048]\n",
      "Std index 5: [0.21980684 0.12420794 0.3194913  0.18443134 0.0369376 ]\n",
      "Mean index 6: [17.042974 17.154306 16.794613 16.756336 16.654398 16.813808]\n",
      "Std index 6: [0.09497052 0.1011598  0.07852709 0.09518442 0.06393987 0.14078154]\n",
      "Mean index 7: [17.17709  17.09705  17.171595 16.869888 16.754856 16.712643 16.779268]\n",
      "Std index 7: [0.1166032  0.13119234 0.10301715 0.15400364 0.10439084 0.11717053\n",
      " 0.11646947]\n"
     ]
    }
   ],
   "source": [
    "test_dataset_8 = My_MaskedDataset(test_data_8, test_seq_mask[test_seq_mask.sum(dim = 1) == 8], test_pix_mask[test_seq_mask.sum(dim = 1) == 8])\n",
    "test_loader = torch.utils.data.DataLoader(test_dataset_8, batch_size=128, shuffle=False)\n",
    "\n",
    "\n",
    "for idx in range(1, 8):\n",
    "    mc = []\n",
    "    for it in range(20):\n",
    "        mses  = []\n",
    "        for i, x in enumerate(test_loader):\n",
    "            x = x.data.cuda()\n",
    "            B, T, D = x.shape\n",
    "            seq_mask = torch.ones_like(x)\n",
    "            seq_mask[:, :-idx] = torch.zeros_like(seq_mask[:, :-idx])\n",
    "            x = x * seq_mask\n",
    "            encoder_output = gpvae.encoder(x)\n",
    "            mu, log_var = encoder_output.embedding.reshape(x.shape[0], gpvae.time_length, -1), encoder_output.log_covariance.reshape(x.shape[0], gpvae.time_length, -1)\n",
    "            qz_x = gpvae.posterior_dist(mean=mu, log_covar=log_var)\n",
    "            z = qz_x.rsample()\n",
    "            z = torch.transpose(z, 1, 2)\n",
    "            pred_x = gpvae.decoder(z.reshape(-1, gpvae.latent_dim))[\"reconstruction\"].reshape(B, T, D)\n",
    "            mse = F.mse_loss(pred_x[:, -idx:], x[:,  -idx:], reduction=\"none\").cpu().detach()\n",
    "            mse = mse.sum(2)\n",
    "            mse = mse.mean(0)\n",
    "            mses.append(mse)\n",
    "\n",
    "        mses = torch.stack(mses)\n",
    "        mc.append(mses.mean(0))\n",
    "    \n",
    "    mc = torch.stack(mc)\n",
    "    print(f'Mean index {idx}:', mc.mean(0).numpy())\n",
    "    print(f'Std index {idx}:', mc.std(0).numpy())\n",
    "\n"
   ]
  },
  {
   "cell_type": "code",
   "execution_count": 11,
   "metadata": {},
   "outputs": [],
   "source": [
    "from tqdm import tqdm\n",
    "def compute_pred_metrics(lldm, num_iter = 5, test_data = test_data, idx_max = None):\n",
    "    test_loader = torch.utils.data.DataLoader(test_data, batch_size=100, shuffle=False)\n",
    "\n",
    "    all_res_mse = []\n",
    "\n",
    "    if idx_max is None:\n",
    "        idx_max = lldm.n_obs - 1\n",
    "\n",
    "    for l in range(num_iter):\n",
    "        res_mse = torch.zeros((lldm.n_obs-1, lldm.n_obs))\n",
    "        for index in tqdm(reversed(range(idx_max))):\n",
    "            mses = []\n",
    "            for i, x in enumerate(test_loader):\n",
    "                x = x.to('cuda')\n",
    "                B, T, D = x.shape\n",
    "                pred_x = lldm.predict(x, vi_index = index, num_gen_seq=1)\n",
    "                pred_x = pred_x.detach().reshape(B, T-index-1, D)\n",
    "                orig = x[:, -pred_x.shape[1]:].detach()\n",
    "                mse = F.mse_loss(pred_x, orig, reduction=\"none\")\n",
    "                mse = mse.sum(2)\n",
    "                mse = mse.mean(0)\n",
    "                mses.append(mse)\n",
    "            \n",
    "            stack_mses = torch.stack(mses).mean(dim=0)\n",
    "            res_mse[lldm.n_obs - 2 - index, (index+1):] = torch.stack(mses).mean(dim=0)\n",
    "\n",
    "        all_res_mse.append(res_mse)\n",
    "\n",
    "    print(torch.mean(torch.stack(all_res_mse), dim=0))\n",
    "\n",
    "    if num_iter > 1:\n",
    "        print(torch.std(torch.stack(all_res_mse), dim=0))\n",
    "\n",
    "    return all_res_mse, pred_x\n"
   ]
  },
  {
   "cell_type": "code",
   "execution_count": 14,
   "metadata": {},
   "outputs": [
    {
     "name": "stdout",
     "output_type": "stream",
     "text": [
      "LLDM\n"
     ]
    },
    {
     "name": "stderr",
     "output_type": "stream",
     "text": [
      "7it [00:01,  5.08it/s]\n",
      "7it [00:01,  5.13it/s]\n",
      "7it [00:01,  5.13it/s]\n",
      "7it [00:01,  5.13it/s]\n",
      "7it [00:01,  5.13it/s]\n"
     ]
    },
    {
     "name": "stdout",
     "output_type": "stream",
     "text": [
      "tensor([[ 0.0000,  0.0000,  0.0000,  0.0000,  0.0000,  0.0000,  0.0000,  6.9089],\n",
      "        [ 0.0000,  0.0000,  0.0000,  0.0000,  0.0000,  0.0000,  5.0607, 10.7271],\n",
      "        [ 0.0000,  0.0000,  0.0000,  0.0000,  0.0000,  4.8098,  7.7021, 13.3962],\n",
      "        [ 0.0000,  0.0000,  0.0000,  0.0000,  4.7608,  6.8706,  9.5290, 14.0695],\n",
      "        [ 0.0000,  0.0000,  0.0000,  4.8070,  6.2448,  7.7430,  9.7546, 13.3983],\n",
      "        [ 0.0000,  0.0000,  4.9776,  6.0806,  6.9394,  8.0013,  9.4980, 12.1563],\n",
      "        [ 0.0000,  5.1204,  5.7406,  6.3178,  6.8697,  7.5391,  8.5208, 10.1575]])\n",
      "tensor([[0.0000, 0.0000, 0.0000, 0.0000, 0.0000, 0.0000, 0.0000, 0.0120],\n",
      "        [0.0000, 0.0000, 0.0000, 0.0000, 0.0000, 0.0000, 0.0374, 0.0372],\n",
      "        [0.0000, 0.0000, 0.0000, 0.0000, 0.0000, 0.0631, 0.1206, 0.1217],\n",
      "        [0.0000, 0.0000, 0.0000, 0.0000, 0.0666, 0.1616, 0.1363, 0.1185],\n",
      "        [0.0000, 0.0000, 0.0000, 0.0638, 0.1262, 0.1997, 0.1811, 0.1926],\n",
      "        [0.0000, 0.0000, 0.0296, 0.0562, 0.2640, 0.3772, 0.4099, 0.3352],\n",
      "        [0.0000, 0.1682, 0.1568, 0.1916, 0.2160, 0.3184, 0.3631, 0.4297]])\n",
      "LVAE\n"
     ]
    },
    {
     "name": "stderr",
     "output_type": "stream",
     "text": [
      "7it [00:00, 36.92it/s]\n",
      "7it [00:00, 37.13it/s]\n",
      "7it [00:00, 37.07it/s]\n",
      "7it [00:00, 37.09it/s]\n",
      "7it [00:00, 37.22it/s]"
     ]
    },
    {
     "name": "stdout",
     "output_type": "stream",
     "text": [
      "tensor([[ 0.0000,  0.0000,  0.0000,  0.0000,  0.0000,  0.0000,  0.0000, 24.5242],\n",
      "        [ 0.0000,  0.0000,  0.0000,  0.0000,  0.0000,  0.0000, 22.5437, 56.0684],\n",
      "        [ 0.0000,  0.0000,  0.0000,  0.0000,  0.0000, 14.7772, 28.2243, 63.1413],\n",
      "        [ 0.0000,  0.0000,  0.0000,  0.0000, 14.4260, 14.3838, 28.4594, 66.4544],\n",
      "        [ 0.0000,  0.0000,  0.0000, 15.2240, 14.6094, 14.6946, 29.4244, 69.0685],\n",
      "        [ 0.0000,  0.0000, 15.2431, 15.2528, 14.6693, 14.8878, 30.3230, 68.9289],\n",
      "        [ 0.0000, 14.2881, 14.3265, 14.2844, 13.9788, 14.1401, 28.0675, 66.0893]])\n",
      "tensor([[0., 0., 0., 0., 0., 0., 0., 0.],\n",
      "        [0., 0., 0., 0., 0., 0., 0., 0.],\n",
      "        [0., 0., 0., 0., 0., 0., 0., 0.],\n",
      "        [0., 0., 0., 0., 0., 0., 0., 0.],\n",
      "        [0., 0., 0., 0., 0., 0., 0., 0.],\n",
      "        [0., 0., 0., 0., 0., 0., 0., 0.],\n",
      "        [0., 0., 0., 0., 0., 0., 0., 0.]])\n"
     ]
    },
    {
     "name": "stderr",
     "output_type": "stream",
     "text": [
      "\n"
     ]
    }
   ],
   "source": [
    "lldm.temperature = 1\n",
    "print('LLDM')\n",
    "mse_lldm, _ = compute_pred_metrics(lldm, num_iter = 5, test_data = test_data_8, idx_max = 7)\n",
    "print('LVAE')\n",
    "mse_lvae, predd = compute_pred_metrics(lvae, num_iter = 5, test_data = test_data_8, idx_max = 7)"
   ]
  }
 ],
 "metadata": {
  "kernelspec": {
   "display_name": "Python 3 (ipykernel)",
   "language": "python",
   "name": "python3"
  },
  "language_info": {
   "codemirror_mode": {
    "name": "ipython",
    "version": 3
   },
   "file_extension": ".py",
   "mimetype": "text/x-python",
   "name": "python",
   "nbconvert_exporter": "python",
   "pygments_lexer": "ipython3",
   "version": "3.12.2"
  }
 },
 "nbformat": 4,
 "nbformat_minor": 2
}
